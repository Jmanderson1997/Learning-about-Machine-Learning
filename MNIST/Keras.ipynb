{
 "cells": [
  {
   "cell_type": "code",
   "execution_count": 59,
   "metadata": {},
   "outputs": [],
   "source": [
    "import tensorflow as tf \n",
    "from tensorflow.python.keras.datasets import mnist\n",
    "from tensorflow.python.keras.models import Sequential\n",
    "from tensorflow.python.keras.layers import Dense, Dropout, Flatten, Conv2D, MaxPooling2D\n",
    "from tensorflow.python.keras import backend as K\n",
    "from tensorflow.python.keras.optimizers import SGD\n"
   ]
  },
  {
   "cell_type": "code",
   "execution_count": 38,
   "metadata": {},
   "outputs": [],
   "source": [
    "batch_size = 128 \n",
    "num_classes = 10\n",
    "epochs = 12 \n",
    "\n",
    "img_rows=28 \n",
    "img_cols=28 \n",
    "\n",
    "x=mnist.train.images\n",
    "xtest=mnist.test.images \n",
    "\n",
    "y=mnist.train.labels\n",
    "ytest=mnist.test.labels\n",
    "\n",
    "\n",
    "if K.image_data_format() == 'channels_first':\n",
    "    x = x.reshape(x.shape[0], 1, img_rows, img_cols)\n",
    "    xtest = x_test.reshape(xtest.shape[0], 1, img_rows, img_cols)\n",
    "    input_shape = (1, img_rows, img_cols)\n",
    "else:\n",
    "    x = x.reshape(x.shape[0], img_rows, img_cols, 1)\n",
    "    xtest = xtest.reshape(xtest.shape[0], img_rows, img_cols, 1)\n",
    "    input_shape = (img_rows, img_cols, 1)\n",
    "    \n",
    "x = x.astype('float32')\n",
    "xtest = xtest.astype('float32')\n",
    "x = x/255\n",
    "xtest = xtest/255\n",
    "\n",
    "y = tf.keras.utils.to_categorical(y, num_classes)\n",
    "ytest = tf.keras.utils.to_categorical(ytest, num_classes)"
   ]
  },
  {
   "cell_type": "code",
   "execution_count": null,
   "metadata": {},
   "outputs": [
    {
     "name": "stdout",
     "output_type": "stream",
     "text": [
      "Train on 55000 samples, validate on 10000 samples\n",
      "Epoch 1/12\n",
      "55000/55000 [==============================] - 13s 234us/step - loss: 0.9213 - acc: 0.7000 - val_loss: 0.3171 - val_acc: 0.9087\n",
      "Epoch 2/12\n",
      "55000/55000 [==============================] - 12s 212us/step - loss: 0.2909 - acc: 0.9137 - val_loss: 0.2465 - val_acc: 0.9254\n",
      "Epoch 3/12\n",
      "55000/55000 [==============================] - 11s 208us/step - loss: 0.2310 - acc: 0.9318 - val_loss: 0.2000 - val_acc: 0.9418\n",
      "Epoch 4/12\n",
      "55000/55000 [==============================] - 12s 210us/step - loss: 0.1885 - acc: 0.9441 - val_loss: 0.1727 - val_acc: 0.9463oss: 0.1907 - acc: 0 - \n",
      "Epoch 5/12\n",
      "55000/55000 [==============================] - 11s 207us/step - loss: 0.1597 - acc: 0.9517 - val_loss: 0.1461 - val_acc: 0.9569\n",
      "Epoch 6/12\n",
      "55000/55000 [==============================] - 11s 209us/step - loss: 0.1401 - acc: 0.9579 - val_loss: 0.1358 - val_acc: 0.9563\n",
      "Epoch 7/12\n",
      "55000/55000 [==============================] - 12s 211us/step - loss: 0.1267 - acc: 0.9611 - val_loss: 0.1321 - val_acc: 0.9595\n",
      "Epoch 8/12\n",
      "55000/55000 [==============================] - 11s 208us/step - loss: 0.1154 - acc: 0.9653 - val_loss: 0.1253 - val_acc: 0.9602\n",
      "Epoch 9/12\n",
      "32384/55000 [================>.............] - ETA: 4s - loss: 0.1060 - acc: 0.9677"
     ]
    }
   ],
   "source": [
    "model= Sequential()\n",
    "model.add(Conv2D(32,(3,3), activation='relu', input_shape=input_shape))\n",
    "model.add(Conv2D(64,(3,3), activation='relu'))\n",
    "model.add(MaxPooling2D(pool_size=(2,2)))\n",
    "model.add(Flatten())\n",
    "model.add(Dense(128, activation='relu'))\n",
    "model.add(Dense(num_classes, activation='softmax'))\n",
    "\n",
    "model.compile(loss=tf.keras.losses.categorical_crossentropy, \n",
    "              optimizer='adam', metrics=['accuracy'])\n",
    "\n",
    "model.fit(x,y, batch_size=batch_size, epochs=epochs, verbose=1, \n",
    "         validation_data=(xtest,ytest))\n",
    "\n",
    "score=model.evaluate(xtest, ytest)\n",
    "print('Test loss:', score[0])\n",
    "print('Test accuracy:', score[1])"
   ]
  },
  {
   "cell_type": "code",
   "execution_count": null,
   "metadata": {},
   "outputs": [],
   "source": []
  }
 ],
 "metadata": {
  "kernelspec": {
   "display_name": "Python 3",
   "language": "python",
   "name": "python3"
  },
  "language_info": {
   "codemirror_mode": {
    "name": "ipython",
    "version": 3
   },
   "file_extension": ".py",
   "mimetype": "text/x-python",
   "name": "python",
   "nbconvert_exporter": "python",
   "pygments_lexer": "ipython3",
   "version": "3.6.4"
  }
 },
 "nbformat": 4,
 "nbformat_minor": 2
}
