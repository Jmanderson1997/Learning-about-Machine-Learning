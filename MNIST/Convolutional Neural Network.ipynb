{
 "cells": [
  {
   "cell_type": "code",
   "execution_count": 7,
   "metadata": {},
   "outputs": [],
   "source": [
    "import tensorflow as tf\n",
    "import numpy as np \n",
    "from tensorflow.examples.tutorials.mnist import input_data\n",
    "FLAGS= None"
   ]
  },
  {
   "cell_type": "code",
   "execution_count": 8,
   "metadata": {},
   "outputs": [
    {
     "name": "stdout",
     "output_type": "stream",
     "text": [
      "Extracting ./MNIST_Data\\train-images-idx3-ubyte.gz\n",
      "Extracting ./MNIST_Data\\train-labels-idx1-ubyte.gz\n",
      "Extracting ./MNIST_Data\\t10k-images-idx3-ubyte.gz\n",
      "Extracting ./MNIST_Data\\t10k-labels-idx1-ubyte.gz\n"
     ]
    }
   ],
   "source": [
    "mnist = input_data.read_data_sets(\"./MNIST_Data\", one_hot=False)"
   ]
  },
  {
   "cell_type": "code",
   "execution_count": 5,
   "metadata": {},
   "outputs": [],
   "source": [
    "tf.reset_default_graph()\n",
    "sess = tf.InteractiveSession()\n",
    "\n",
    "flatx=tf.placeholder(tf.float32, [None, 784])\n",
    "x=tf.reshape(flatx,[-1, 28, 28, 1])#what is the last input and why just x as the first \n",
    "\n",
    "with tf.variable_scope('FirstConv'): \n",
    "    \n",
    "    weight=tf.get_variable(\"W\", [10, 10, 1, 32], \n",
    "                          initializer=tf.truncated_normal_initializer(stddev=np.sqrt(2/784)))\n",
    "    bias=tf.get_variable(\"b\",initializer=tf.constant(.01,shape=[32]))\n",
    "    \n",
    "    z=tf.nn.conv2d(x, weight, strides=[1,1,1,1], padding=\"SAME\") + bias\n",
    "    #computes a 2d convolution on 4D input, what does that mean\n",
    "    \n",
    "    a1=tf.nn.relu(z)\n",
    "    \n",
    "    \n",
    "with tf.variable_scope('pool1'):\n",
    "    pooled1=tf.nn.max_pool(a1, ksize=[1,2,2,1], strides=[1,2,2,1], padding=\"SAME\")\n",
    "    \n",
    "with tf.variable_scope('SecondConv'): \n",
    "    weight=tf.get_variable(\"W\", [5, 5, 32, 64], \n",
    "                          initializer=tf.truncated_normal_initializer(stddev=np.sqrt(2/64)))\n",
    "    #how do we decide initializers and what is with the shapes\n",
    "    \n",
    "    bias= tf.get_variable(\"b\",initializer=tf.constant(.01,shape=[64]))\n",
    "    #why has shape gone up when pooling shrinks the data size\n",
    "    \n",
    "    z=tf.nn.conv2d(pooled1, weight, strides=[1,1,1,1], padding=\"SAME\") + bias\n",
    "    \n",
    "    a2=tf.nn.relu(z)\n",
    "    \n",
    "    \n",
    "with tf.variable_scope('pool2'):\n",
    "    pooled2=tf.nn.max_pool(a2, ksize=[1,2,2,1], strides=[1,1,1,1], padding=\"SAME\")\n",
    "    \n",
    "with tf.variable_scope('FullyConnectedLayer1'): \n",
    "    flat_size=int(np.prod(pooled2.shape[1:]))\n",
    "    flatpool=tf.reshape(pooled2, [-1, flat_size])\n",
    "    \n",
    "    weight=tf.get_variable(\"W\", [flat_size, 1024], \n",
    "                          initializer=tf.truncated_normal_initializer(stddev=np.sqrt(2/flat_size)))\n",
    "    #why is it size 1024 the original flattened image wasnt even that large\n",
    "    \n",
    "    bias=tf.get_variable(\"b\",initializer=tf.constant(.01,shape=[1024]))\n",
    "    \n",
    "    z=tf.matmul(flatpool, weight)+bias\n",
    "    \n",
    "    a3=tf.nn.relu(z)\n",
    "    \n",
    "    p1 = tf.Print(tf.shape(a3), [tf.shape(a3)])\n",
    "    \n",
    "with tf.variable_scope('FullyConnectedLayer2'):\n",
    "    weight=tf.get_variable(\"W\", [1024, 10], \n",
    "                          initializer=tf.truncated_normal_initializer(stddev=np.sqrt(2/1024)))\n",
    "    bias= tf.get_variable(\"b\",initializer=tf.constant(.01,shape=[10]))\n",
    "    \n",
    "    z=tf.matmul(a3, weight)+bias\n",
    "    \n",
    "    hyp=tf.nn.softmax(z)\n",
    "    \n",
    "    \n",
    "y=tf.placeholder(tf.int64, [None])\n",
    "\n",
    "loss= tf.losses.sparse_softmax_cross_entropy(labels=y, logits=hyp)\n",
    "#what is this loss function\n",
    "training_step= tf.train.GradientDescentOptimizer(.005).minimize(loss)\n",
    "tf.global_variables_initializer().run()\n"
   ]
  },
  {
   "cell_type": "code",
   "execution_count": 9,
   "metadata": {},
   "outputs": [
    {
     "name": "stdout",
     "output_type": "stream",
     "text": [
      "0.91\n",
      "0.91\n",
      "0.91\n",
      "0.92\n",
      "0.91\n",
      "0.92\n",
      "0.92\n",
      "0.91\n",
      "0.91\n",
      "0.91\n",
      "0.91\n",
      "0.92\n",
      "0.92\n",
      "0.92\n",
      "0.92\n",
      "0.92\n",
      "0.92\n",
      "0.92\n",
      "0.92\n",
      "0.92\n",
      "0.92\n",
      "0.92\n",
      "0.92\n",
      "0.92\n",
      "0.92\n",
      "0.92\n",
      "0.92\n",
      "0.92\n",
      "0.92\n",
      "0.92\n",
      "0.92\n",
      "0.92\n",
      "0.92\n",
      "0.92\n",
      "0.92\n",
      "0.92\n",
      "0.92\n",
      "0.92\n",
      "0.92\n",
      "0.92\n",
      "0.92\n",
      "0.92\n",
      "0.92\n",
      "0.92\n",
      "0.92\n",
      "0.92\n",
      "0.92\n",
      "0.92\n",
      "0.92\n",
      "0.92\n"
     ]
    }
   ],
   "source": [
    "for i in range(5000): \n",
    "    batch_x, batch_y= mnist.train.next_batch(100)\n",
    "            \n",
    "    sess.run(training_step, feed_dict={flatx:batch_x, y: batch_y})\n",
    "    #unclear about batches\n",
    "    \n",
    "    if i%100 == 0:\n",
    "        correct_prediction = tf.equal(tf.argmax(hyp, 1), y)\n",
    "        accuracy = tf.reduce_mean(tf.cast(correct_prediction, tf.float32))\n",
    "        print(sess.run(\n",
    "          accuracy, feed_dict={\n",
    "              flatx: mnist.test.images[:100],\n",
    "              y: mnist.test.labels[:100]\n",
    "          }))"
   ]
  },
  {
   "cell_type": "code",
   "execution_count": null,
   "metadata": {},
   "outputs": [],
   "source": []
  },
  {
   "cell_type": "code",
   "execution_count": null,
   "metadata": {},
   "outputs": [],
   "source": []
  }
 ],
 "metadata": {
  "kernelspec": {
   "display_name": "Python 3",
   "language": "python",
   "name": "python3"
  },
  "language_info": {
   "codemirror_mode": {
    "name": "ipython",
    "version": 3
   },
   "file_extension": ".py",
   "mimetype": "text/x-python",
   "name": "python",
   "nbconvert_exporter": "python",
   "pygments_lexer": "ipython3",
   "version": "3.6.4"
  }
 },
 "nbformat": 4,
 "nbformat_minor": 2
}
