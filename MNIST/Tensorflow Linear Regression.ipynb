{
 "cells": [
  {
   "cell_type": "code",
   "execution_count": 2,
   "metadata": {},
   "outputs": [],
   "source": [
    "import tensorflow as tf\n",
    "import numpy as np"
   ]
  },
  {
   "cell_type": "code",
   "execution_count": 3,
   "metadata": {},
   "outputs": [],
   "source": [
    "x_train = [1.0, 2.0, 3.0, 4.0]\n",
    "y_train = [1.5, 3.5, 5.5, 7.5]"
   ]
  },
  {
   "cell_type": "code",
   "execution_count": 10,
   "metadata": {},
   "outputs": [],
   "source": [
    "tf.reset_default_graph()\n",
    "sess = tf.Session()\n",
    "W=tf.get_variable(\"W\",initializer=tf.constant([0.1]))\n",
    "b=tf.get_variable(\"b\",initializer=tf.constant([0.0]))\n",
    "\n",
    "x=tf.placeholder(tf.float32)\n",
    "y=tf.placeholder(tf.float32)\n",
    "\n",
    "model=W*x+b \n",
    "\n",
    "loss=tf.reduce_sum(tf.square(model-y))\n",
    "\n",
    "optimizer=tf.train.GradientDescentOptimizer(0.01)\n",
    "train=optimizer.minimize(loss)\n",
    "sess.run(tf.global_variables_initializer())"
   ]
  },
  {
   "cell_type": "code",
   "execution_count": 11,
   "metadata": {},
   "outputs": [
    {
     "name": "stdout",
     "output_type": "stream",
     "text": [
      "i: 0 cost: 10.562398910522461\n",
      "i: 100 cost: 0.061850059777498245\n",
      "i: 200 cost: 0.005557416472584009\n",
      "i: 300 cost: 0.0004993483889847994\n",
      "i: 400 cost: 4.486760008148849e-05\n",
      "i: 500 cost: 4.031036041851621e-06\n",
      "i: 600 cost: 3.6235860534361564e-07\n",
      "i: 700 cost: 3.264136694269837e-08\n",
      "i: 800 cost: 2.9039171067779534e-09\n",
      "i: 900 cost: 2.5556801119819283e-10\n",
      "W: [1.999998] b: [-0.499994] cost: 2.2751578399038408e-11\n"
     ]
    }
   ],
   "source": [
    "for i in range (1000): \n",
    "    \n",
    "    sess.run(train, {x:x_train, y:y_train})\n",
    "    \n",
    "    if i % 100 == 0: \n",
    "        \n",
    "        l_cost = sess.run(loss, {x:x_train, y:y_train})\n",
    "        print(f\"i: {i} cost: {l_cost}\")\n",
    "\n",
    "l_W, l_b, l_cost  = sess.run([W, b, loss], {x:x_train, y:y_train})\n",
    "print(f\"W: {l_W} b: {l_b} cost: {l_cost}\")"
   ]
  },
  {
   "cell_type": "code",
   "execution_count": null,
   "metadata": {},
   "outputs": [],
   "source": []
  }
 ],
 "metadata": {
  "kernelspec": {
   "display_name": "Python 3",
   "language": "python",
   "name": "python3"
  },
  "language_info": {
   "codemirror_mode": {
    "name": "ipython",
    "version": 3
   },
   "file_extension": ".py",
   "mimetype": "text/x-python",
   "name": "python",
   "nbconvert_exporter": "python",
   "pygments_lexer": "ipython3",
   "version": "3.6.4"
  }
 },
 "nbformat": 4,
 "nbformat_minor": 2
}
