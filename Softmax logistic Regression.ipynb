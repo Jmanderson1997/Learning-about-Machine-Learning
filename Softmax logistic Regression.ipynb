{
 "cells": [
  {
   "cell_type": "code",
   "execution_count": 94,
   "metadata": {},
   "outputs": [],
   "source": [
    "import numpy as np \n",
    "import pandas as pd \n",
    "import matplotlib.pyplot as plt\n",
    "from sklearn.metrics import accuracy_score"
   ]
  },
  {
   "cell_type": "code",
   "execution_count": 85,
   "metadata": {},
   "outputs": [],
   "source": [
    "def softmax(X):\n",
    "    e = np.exp(X)\n",
    "    softmax = e / np.sum(e, axis=1).reshape((-1, 1))\n",
    "    return softmax\n"
   ]
  },
  {
   "cell_type": "code",
   "execution_count": 89,
   "metadata": {},
   "outputs": [],
   "source": [
    "Data=pd.read_csv(\"Iris.csv\", usecols=[\"SepalLengthCm\",\"SepalWidthCm\",\"PetalLengthCm\",\"PetalWidthCm\"])\n",
    "Class=pd.read_csv(\"Iris.csv\", usecols=[\"Species\"])\n",
    "labels = pd.get_dummies(Class['Species'])\n",
    "\n",
    "X=Data.values\n",
    "Y=labels.values\n",
    "weights=np.zeros((X.shape[1],3))\n",
    "\n",
    "iterations=50000\n",
    "alpha=.1\n",
    "\n",
    "for iteration in range(iterations): \n",
    "    hyp=np.matmul(X,weights)\n",
    "    hyp=softmax(hyp)\n",
    "    dist=hyp-Y\n",
    "    gradient= (np.matmul(X.T, dist)) / X.shape[0]\n",
    "    weights=weights-alpha*gradient\n",
    "    \n"
   ]
  },
  {
   "cell_type": "code",
   "execution_count": 97,
   "metadata": {},
   "outputs": [
    {
     "data": {
      "text/plain": [
       "0.9666666666666667"
      ]
     },
     "execution_count": 97,
     "metadata": {},
     "output_type": "execute_result"
    }
   ],
   "source": [
    "pred=np.argmax(hyp, axis=1)\n",
    "real=np.argmax(Y,axis=1)\n",
    "accuracy_score(real,pred)"
   ]
  },
  {
   "cell_type": "code",
   "execution_count": null,
   "metadata": {},
   "outputs": [],
   "source": []
  }
 ],
 "metadata": {
  "kernelspec": {
   "display_name": "Python 3",
   "language": "python",
   "name": "python3"
  },
  "language_info": {
   "codemirror_mode": {
    "name": "ipython",
    "version": 3
   },
   "file_extension": ".py",
   "mimetype": "text/x-python",
   "name": "python",
   "nbconvert_exporter": "python",
   "pygments_lexer": "ipython3",
   "version": "3.6.4"
  }
 },
 "nbformat": 4,
 "nbformat_minor": 2
}
