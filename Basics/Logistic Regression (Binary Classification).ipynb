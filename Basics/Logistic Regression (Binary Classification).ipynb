{
 "cells": [
  {
   "cell_type": "code",
   "execution_count": 2,
   "metadata": {},
   "outputs": [],
   "source": [
    "import pandas as pd\n",
    "import numpy as np \n",
    "import matplotlib.pyplot as plt"
   ]
  },
  {
   "cell_type": "code",
   "execution_count": 133,
   "metadata": {},
   "outputs": [],
   "source": [
    "Data = pd.read_csv(\"grading data.csv\", names=[\"studied\", \"slept\", \"passed\"] )\n",
    "X_df = pd.DataFrame(Data, columns= ['studied', 'slept'] )\n",
    "X_df['Intercepts']=1\n",
    "Y_df= pd.DataFrame(Data, columns= ['passed'] )\n",
    "weights= np.random.uniform(0,1,3).reshape(-1, 1)\n",
    "\n",
    "X= X_df.values\n",
    "Y=np.array(Y_df) #same thing"
   ]
  },
  {
   "cell_type": "code",
   "execution_count": 192,
   "metadata": {},
   "outputs": [],
   "source": [
    "iterations=50000\n",
    "alpha=.1\n",
    "\n",
    "\n",
    "for iteration in range(iterations): \n",
    "    \n",
    "    hyp = 1/(1+np.exp(-(np.matmul(X, weights))))\n",
    "    dist = hyp-Y\n",
    "    gradient= (np.matmul(X.T, dist)) / X.shape[0]\n",
    "    weights=weights-alpha*gradient\n"
   ]
  },
  {
   "cell_type": "code",
   "execution_count": 213,
   "metadata": {},
   "outputs": [],
   "source": [
    "def make_meshgrid(x, y, h=.02):\n",
    "    \"\"\"Create a mesh of points to plot in\n",
    "\n",
    "    Parameters\n",
    "    ----------\n",
    "    x: data to base x-axis meshgrid on\n",
    "    y: data to base y-axis meshgrid on\n",
    "    h: stepsize for meshgrid, optional\n",
    "\n",
    "    Returns\n",
    "    -------\n",
    "    xx, yy : ndarray\n",
    "    \"\"\"\n",
    "    x_min, x_max = x.min() - 1, x.max() + 1\n",
    "    y_min, y_max = y.min() - 1, y.max() + 1\n",
    "    xx, yy = np.meshgrid(np.arange(x_min, x_max, h),\n",
    "                         np.arange(y_min, y_max, h))\n",
    "    return xx, yy"
   ]
  },
  {
   "cell_type": "code",
   "execution_count": 223,
   "metadata": {},
   "outputs": [
    {
     "data": {
      "text/plain": [
       "[<matplotlib.lines.Line2D at 0x2240149ae10>]"
      ]
     },
     "execution_count": 223,
     "metadata": {},
     "output_type": "execute_result"
    },
    {
     "data": {
      "image/png": "[encoded data removed]",
      "text/plain": [
       "<matplotlib.figure.Figure at 0x2240129acc0>"
      ]
     },
     "metadata": {},
     "output_type": "display_data"
    }
   ],
   "source": [
    "plt.figure()\n",
    "xx, yy = make_meshgrid(X[:, 0], X[:, 1])\n",
    "Z = np.c_[xx.ravel(), yy.ravel(), np.ones(len(xx.ravel()))]\n",
    "\n",
    "\n",
    "Z = 1/(1+np.exp(-(np.matmul(Z, weights))))\n",
    "Z[Z >= 0.5] = 1\n",
    "Z[Z < 0.5] = 0\n",
    "\n",
    "Z = Z.reshape(xx.shape)\n",
    "#Z = np.sqrt(xx**2 + yy**2)\n",
    "cp = plt.contourf(xx, yy, Z, cmap=plt.cm.coolwarm, alpha=0.8)\n",
    "passed = np.where((hyp > 0.5).flatten())[0]\n",
    "not_passed = np.where(np.logical_not(np.isin(np.arange(len(X)), passed)))[0]\n",
    "\n",
    "plt.plot(X[passed, 0], X[passed, 1], 'bo')\n",
    "plt.plot(X[not_passed, 0], X[not_passed, 1], 'rs')#plt.colorbar(cp)"
   ]
  },
  {
   "cell_type": "code",
   "execution_count": 212,
   "metadata": {},
   "outputs": [
    {
     "data": {
      "text/plain": [
       "[<matplotlib.lines.Line2D at 0x22400fd8b70>]"
      ]
     },
     "execution_count": 212,
     "metadata": {},
     "output_type": "execute_result"
    },
    {
     "data": {
      "image/png": "[encoded data removed]",
      "text/plain": [
       "<matplotlib.figure.Figure at 0x22401213fd0>"
      ]
     },
     "metadata": {},
     "output_type": "display_data"
    }
   ],
   "source": [
    "hyp = 1/(1+np.exp(-(np.matmul(X, weights))))\n",
    "#np.where(hyp > 0.5)\n",
    "passed = np.where((hyp > 0.5).flatten())[0]\n",
    "not_passed = np.where(np.logical_not(np.isin(np.arange(len(X)), passed)))[0]\n",
    "\n",
    "plt.plot(X[passed, 0], X[passed, 1], 'bo')\n",
    "plt.plot(X[not_passed, 0], X[not_passed, 1], 'rs')"
   ]
  },
  {
   "cell_type": "code",
   "execution_count": null,
   "metadata": {},
   "outputs": [],
   "source": []
  },
  {
   "cell_type": "code",
   "execution_count": null,
   "metadata": {},
   "outputs": [],
   "source": []
  }
 ],
 "metadata": {
  "kernelspec": {
   "display_name": "Python 3",
   "language": "python",
   "name": "python3"
  },
  "language_info": {
   "codemirror_mode": {
    "name": "ipython",
    "version": 3
   },
   "file_extension": ".py",
   "mimetype": "text/x-python",
   "name": "python",
   "nbconvert_exporter": "python",
   "pygments_lexer": "ipython3",
   "version": "3.6.4"
  }
 },
 "nbformat": 4,
 "nbformat_minor": 2
}
