{
 "cells": [
  {
   "cell_type": "code",
   "execution_count": 18,
   "metadata": {},
   "outputs": [
    {
     "name": "stdout",
     "output_type": "stream",
     "text": [
      "\n",
      "Training With Alpha:0.01\n",
      "Error after 0 iterations:0.496410031903\n",
      "Error after 10000 iterations:0.457431074442\n",
      "Error after 20000 iterations:0.359097202563\n",
      "Error after 30000 iterations:0.239358137159\n",
      "Error after 40000 iterations:0.143070659013\n",
      "Error after 50000 iterations:0.0985964298089\n"
     ]
    }
   ],
   "source": [
    "import numpy as np\n",
    "\n",
    "\n",
    "def sigmoid(x, derivative=False):\n",
    "    sigma = 1/(1+np.exp(-x))\n",
    "    if derivative:\n",
    "        return sigma * (1-sigma)\n",
    "    else:\n",
    "        return sigma\n",
    "    \n",
    "X = np.array([[0,0,1],\n",
    "            [0,1,1],\n",
    "            [1,0,1],\n",
    "            [1,1,1]])\n",
    "                \n",
    "y = np.array([[0],\n",
    "            [1],\n",
    "            [1],\n",
    "            [0]])\n",
    "\n",
    "print (\"\\nTraining With Alpha:\" + str(alpha))\n",
    "np.random.seed(1)\n",
    "alpha = 0.01\n",
    "hidden_neurons = 4\n",
    "# randomly initialize our weights with mean 0\n",
    "w1 = 2*np.random.random((X.shape[1],hidden_neurons)) - 1\n",
    "w2 = 2*np.random.random((hidden_neurons,y.shape[1])) - 1\n",
    "\n",
    "for j in range(60000):\n",
    "\n",
    "    # Feed forward through layers 0, 1, and 2\n",
    "    layer_0 = X\n",
    "    layer_1 = sigmoid(np.dot(layer_0,w1))\n",
    "    layer_2 = sigmoid(np.dot(layer_1,w2))\n",
    "\n",
    "    # how much did we miss the target value?\n",
    "    layer_2_error = layer_2 - y\n",
    "\n",
    "    if (j% 10000) == 0:\n",
    "        print (\"Error after \"+str(j)+\" iterations:\" + str(np.mean(np.abs(layer_2_error))))\n",
    "\n",
    "    # in what direction is the target value?\n",
    "    # were we really sure? if so, don't change too much.\n",
    "    layer_2_delta = layer_2_error*sigmoid(np.dot(layer_1,w2), derivative=True)\n",
    "\n",
    "    # how much did each l1 value contribute to the l2 error (according to the weights)?\n",
    "    layer_1_error = layer_2_delta.dot(w2.T)\n",
    "\n",
    "    # in what direction is the target l1?\n",
    "    # were we really sure? if so, don't change toosmuch.\n",
    "    layer_1_delta = layer_1_error * sigmoid(np.dot(layer_0,w1), derivative=True)\n",
    "\n",
    "    w2 -= alpha * (layer_1.T.dot(layer_2_delta))\n",
    "    w1 -= alpha * (layer_0.T.dot(layer_1_delta))\n",
    "\n"
   ]
  },
  {
   "cell_type": "code",
   "execution_count": null,
   "metadata": {
    "collapsed": true
   },
   "outputs": [],
   "source": []
  }
 ],
 "metadata": {
  "kernelspec": {
   "display_name": "Python 3",
   "language": "python",
   "name": "python3"
  },
  "language_info": {
   "codemirror_mode": {
    "name": "ipython",
    "version": 3
   },
   "file_extension": ".py",
   "mimetype": "text/x-python",
   "name": "python",
   "nbconvert_exporter": "python",
   "pygments_lexer": "ipython3",
   "version": "3.6.3"
  }
 },
 "nbformat": 4,
 "nbformat_minor": 2
}
