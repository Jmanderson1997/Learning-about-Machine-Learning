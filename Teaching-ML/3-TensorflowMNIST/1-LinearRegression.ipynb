{
 "cells": [
  {
   "cell_type": "code",
   "execution_count": 7,
   "metadata": {},
   "outputs": [],
   "source": [
    "import tensorflow as tf\n",
    "import numpy as np"
   ]
  },
  {
   "cell_type": "code",
   "execution_count": 21,
   "metadata": {},
   "outputs": [],
   "source": [
    "x_train = [1.0, 2.0, 3.0, 4.0]\n",
    "y_train = [1.5, 3.5, 5.5, 7.5]"
   ]
  },
  {
   "cell_type": "code",
   "execution_count": 22,
   "metadata": {},
   "outputs": [],
   "source": [
    "tf.reset_default_graph()\n",
    "sess = tf.Session()\n",
    "W = tf.get_variable(\"W\", initializer=tf.constant([0.1]))\n",
    "b = tf.get_variable(\"b\", initializer=tf.constant([0.0]))\n",
    "\n",
    "x = tf.placeholder(tf.float32)\n",
    "y = tf.placeholder(tf.float32)\n",
    "\n",
    "model = W * x + b\n",
    "\n",
    "loss = tf.reduce_sum(tf.square(model - y))\n",
    "\n",
    "optimizer = tf.train.GradientDescentOptimizer(0.01)\n",
    "train = optimizer.minimize(loss)\n",
    "sess.run(tf.global_variables_initializer())"
   ]
  },
  {
   "cell_type": "code",
   "execution_count": 24,
   "metadata": {},
   "outputs": [
    {
     "name": "stdout",
     "output_type": "stream",
     "text": [
      "i: 0 cost: 2.2751578399038408e-11\n",
      "i: 100 cost: 2.5579538487363607e-12\n",
      "i: 200 cost: 2.5579538487363607e-12\n",
      "i: 300 cost: 2.5579538487363607e-12\n",
      "i: 400 cost: 2.5579538487363607e-12\n",
      "i: 500 cost: 2.5579538487363607e-12\n",
      "i: 600 cost: 2.5579538487363607e-12\n",
      "i: 700 cost: 2.5579538487363607e-12\n",
      "i: 800 cost: 2.5579538487363607e-12\n",
      "i: 900 cost: 2.5579538487363607e-12\n",
      "W: [1.9999993] b: [-0.49999803] cost: 2.5579538487363607e-12\n"
     ]
    }
   ],
   "source": [
    "for i in range(1000):\n",
    "    sess.run(train, {x:x_train, y:y_train})\n",
    "    if i%100==0:\n",
    "        l_cost = sess.run(loss, {x:x_train, y:y_train})\n",
    "        print(f\"i: {i} cost: {l_cost}\")\n",
    "        \n",
    "l_W, l_b, l_cost  = sess.run([W, b, loss], {x:x_train, y:y_train})\n",
    "print(f\"W: {l_W} b: {l_b} cost: {l_cost}\")"
   ]
  },
  {
   "cell_type": "code",
   "execution_count": null,
   "metadata": {},
   "outputs": [],
   "source": []
  }
 ],
 "metadata": {
  "kernelspec": {
   "display_name": "Python 3",
   "language": "python",
   "name": "python3"
  },
  "language_info": {
   "codemirror_mode": {
    "name": "ipython",
    "version": 3
   },
   "file_extension": ".py",
   "mimetype": "text/x-python",
   "name": "python",
   "nbconvert_exporter": "python",
   "pygments_lexer": "ipython3",
   "version": "3.6.4"
  }
 },
 "nbformat": 4,
 "nbformat_minor": 2
}
